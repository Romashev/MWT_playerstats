{
 "cells": [
  {
   "cell_type": "code",
   "execution_count": 1,
   "metadata": {},
   "outputs": [],
   "source": [
    "from bs4 import *\n",
    "import re\n",
    "import urllib.request as urllib2\n",
    "from urllib.request import urlopen\n",
    "from urllib.parse  import urljoin\n",
    "import requests\n",
    "import unicodedata\n",
    "import math"
   ]
  },
  {
   "cell_type": "code",
   "execution_count": 2,
   "metadata": {},
   "outputs": [],
   "source": [
    "url = 'https://mafiaworldtour.com/user/14110/show'"
   ]
  },
  {
   "cell_type": "code",
   "execution_count": 3,
   "metadata": {},
   "outputs": [],
   "source": [
    "result = [[0, 0, 0.0], [0, 0, 0.0], [0, 0, 0.0], [0, 0, 0.0], 0]"
   ]
  },
  {
   "cell_type": "code",
   "execution_count": 4,
   "metadata": {
    "scrolled": false
   },
   "outputs": [
    {
     "data": {
      "text/plain": [
       "'TurboKazah'"
      ]
     },
     "execution_count": 4,
     "metadata": {},
     "output_type": "execute_result"
    }
   ],
   "source": [
    "#блок с ссылками\n",
    "response = requests.get(url)\n",
    "soup = BeautifulSoup(response.text, 'html.parser')\n",
    "name = soup.select('#user-general-info > div:nth-child(1) > div.col-md-8 > div.table-responsive > div > div:nth-child(2) > div.col-md-9 > span')\n",
    "#ник\n",
    "player_name = name[0].text\n",
    "player_name"
   ]
  },
  {
   "cell_type": "code",
   "execution_count": 5,
   "metadata": {
    "scrolled": true
   },
   "outputs": [
    {
     "data": {
      "text/plain": [
       "2"
      ]
     },
     "execution_count": 5,
     "metadata": {},
     "output_type": "execute_result"
    }
   ],
   "source": [
    "#получаем все ссылки\n",
    "links = soup('a', class_='btn btn-sm btn-danger')\n",
    "tournament_links = []\n",
    "for i in range(len(links)):\n",
    "    tournament_links.append(links[i]['href']) \n",
    "len(tournament_links)"
   ]
  },
  {
   "cell_type": "code",
   "execution_count": 6,
   "metadata": {
    "scrolled": false
   },
   "outputs": [],
   "source": [
    "def all_games(url):\n",
    "    #делим страницу на игры\n",
    "    response = requests.get(url)\n",
    "    soup = BeautifulSoup(response.text, 'html.parser')\n",
    "    game_panels = soup.find_all('div', class_='panel panel-default')\n",
    "    \n",
    "    for k in range(len(game_panels)):\n",
    "        panel = game_panels[k]\n",
    "        \n",
    "        #кто победил\n",
    "        panel_title = panel.select_one('div > div > h4 > a')\n",
    "        if panel_title['class'][1] == 'mafia-wins':\n",
    "            city_wins = False\n",
    "        else:\n",
    "            city_wins = True\n",
    "        \n",
    "        #находим нашего игрока\n",
    "        players = panel('div', class_ = 'game-result-block')\n",
    "        for i in range(len(players)):\n",
    "            a = players[i](class_='highlighed-result')\n",
    "            if a!=[]:\n",
    "                player_number = i\n",
    "        player_box = players[player_number]\n",
    "        #print(player_box.prettify())\n",
    "        \n",
    "        #получаем его результат\n",
    "        if player_box(class_ = 'is-killed-first'):\n",
    "            result[4] += 1\n",
    "\n",
    "        points = player_box.find(class_ = 'score-cell')\n",
    "        bonus_points = float(re.split('/', points.text)[-1])\n",
    "        role = player_box('i')[-1]\n",
    "\n",
    "        if role['class'] == ['icon-red']:\n",
    "            result[0][0] += 1\n",
    "            if city_wins == True:\n",
    "                result[0][1] += 1\n",
    "            result[0][2] += bonus_points\n",
    "\n",
    "        elif role['class'] == ['icon-sheriff']:\n",
    "            result[1][0] += 1\n",
    "            if city_wins == True:\n",
    "                result[1][1] += 1\n",
    "            result[1][2] += bonus_points\n",
    "\n",
    "        elif role['class'] == ['icon-black']:\n",
    "            result[2][0] += 1\n",
    "            if city_wins == False:\n",
    "                result[2][1] += 1\n",
    "            result[2][2] += bonus_points\n",
    "\n",
    "        elif role['class'] == ['icon-don']:\n",
    "            result[3][0] += 1\n",
    "            if city_wins == False:\n",
    "                result[3][1] += 1\n",
    "            result[3][2] += bonus_points\n",
    "    return(len(game_panels))\n",
    "\n",
    "#test"
   ]
  },
  {
   "cell_type": "code",
   "execution_count": 7,
   "metadata": {
    "scrolled": true
   },
   "outputs": [
    {
     "data": {
      "text/plain": [
       "26"
      ]
     },
     "execution_count": 7,
     "metadata": {},
     "output_type": "execute_result"
    }
   ],
   "source": [
    "gamecount = 0\n",
    "for i in range(len(tournament_links)):\n",
    "    gamecount += all_games(tournament_links[i])\n",
    "gamecount"
   ]
  },
  {
   "cell_type": "code",
   "execution_count": 8,
   "metadata": {},
   "outputs": [
    {
     "name": "stdout",
     "output_type": "stream",
     "text": [
      "TurboKazah\n",
      "Красные: 16 / 4 / 1.10\n",
      "Шериф: 2 / 0 / 0.00\n",
      "Чёрные: 6 / 3 / 0.20\n",
      "Дон: 2 / 1 / 0.20\n",
      "ПУ: 0\n"
     ]
    }
   ],
   "source": [
    "print(player_name)\n",
    "print('Красные:', result[0][0], '/', result[0][1], '/', \"%.2f\" %(result[0][2]))\n",
    "print('Шериф:', result[1][0], '/', result[1][1], '/', \"%.2f\" %(result[1][2]))\n",
    "print('Чёрные:', result[2][0], '/', result[2][1], '/', \"%.2f\" %(result[2][2]))\n",
    "print('Дон:', result[3][0], '/', result[3][1], '/', \"%.2f\" %(result[3][2]))\n",
    "print('ПУ:', result[4])"
   ]
  },
  {
   "cell_type": "code",
   "execution_count": 9,
   "metadata": {},
   "outputs": [],
   "source": [
    "with open(f'{player_name}.txt', 'w') as f:\n",
    "    print(player_name, file=f)\n",
    "    print('Красные:', result[0][0], '/', result[0][1], '/', \"%.2f\" %(result[0][2]), file=f)\n",
    "    print('Шериф:', result[1][0], '/', result[1][1], '/', \"%.2f\" %(result[1][2]), file=f)\n",
    "    print('Чёрные:', result[2][0], '/', result[2][1], '/', \"%.2f\" %(result[2][2]), file=f)\n",
    "    print('Дон:', result[3][0], '/', result[3][1], '/', \"%.2f\" %(result[3][2]), file=f)\n",
    "    print('ПУ:', result[4], file = f)\n",
    "result = [[0, 0, 0.0], [0, 0, 0.0], [0, 0, 0.0], [0, 0, 0.0], 0]"
   ]
  },
  {
   "cell_type": "code",
   "execution_count": null,
   "metadata": {},
   "outputs": [],
   "source": []
  }
 ],
 "metadata": {
  "kernelspec": {
   "display_name": "Python 3",
   "language": "python",
   "name": "python3"
  },
  "language_info": {
   "codemirror_mode": {
    "name": "ipython",
    "version": 3
   },
   "file_extension": ".py",
   "mimetype": "text/x-python",
   "name": "python",
   "nbconvert_exporter": "python",
   "pygments_lexer": "ipython3",
   "version": "3.7.4"
  }
 },
 "nbformat": 4,
 "nbformat_minor": 2
}
